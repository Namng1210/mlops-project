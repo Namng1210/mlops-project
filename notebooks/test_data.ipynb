{
 "cells": [
  {
   "cell_type": "code",
   "execution_count": 1,
   "metadata": {},
   "outputs": [
    {
     "name": "stdout",
     "output_type": "stream",
     "text": [
      "Requirement already satisfied: great-expectations==0.15.15 in ./venv/lib/python3.9/site-packages (0.15.15)\n",
      "Requirement already satisfied: notebook>=6.4.10 in ./venv/lib/python3.9/site-packages (from great-expectations==0.15.15) (6.5.4)\n",
      "Requirement already satisfied: pandas>=0.23.0 in ./venv/lib/python3.9/site-packages (from great-expectations==0.15.15) (1.1.5)\n",
      "Requirement already satisfied: python-dateutil>=2.8.1 in ./venv/lib/python3.9/site-packages (from great-expectations==0.15.15) (2.8.2)\n",
      "Requirement already satisfied: importlib-metadata>=1.7.0 in ./venv/lib/python3.9/site-packages (from great-expectations==0.15.15) (6.5.0)\n",
      "Requirement already satisfied: tzlocal>=1.2 in ./venv/lib/python3.9/site-packages (from great-expectations==0.15.15) (4.3)\n",
      "Requirement already satisfied: packaging in ./venv/lib/python3.9/site-packages (from great-expectations==0.15.15) (23.1)\n",
      "Requirement already satisfied: colorama>=0.4.3 in ./venv/lib/python3.9/site-packages (from great-expectations==0.15.15) (0.4.6)\n",
      "Requirement already satisfied: jinja2>=2.10 in ./venv/lib/python3.9/site-packages (from great-expectations==0.15.15) (3.1.2)\n",
      "Requirement already satisfied: tqdm>=4.59.0 in ./venv/lib/python3.9/site-packages (from great-expectations==0.15.15) (4.65.0)\n",
      "Requirement already satisfied: requests>=2.20 in ./venv/lib/python3.9/site-packages (from great-expectations==0.15.15) (2.28.2)\n",
      "Requirement already satisfied: urllib3<1.27,>=1.25.4 in ./venv/lib/python3.9/site-packages (from great-expectations==0.15.15) (1.26.15)\n",
      "Requirement already satisfied: pyparsing<3,>=2.4 in ./venv/lib/python3.9/site-packages (from great-expectations==0.15.15) (2.4.7)\n",
      "Requirement already satisfied: jsonpatch>=1.22 in ./venv/lib/python3.9/site-packages (from great-expectations==0.15.15) (1.32)\n",
      "Requirement already satisfied: ipywidgets>=7.5.1 in ./venv/lib/python3.9/site-packages (from great-expectations==0.15.15) (8.0.6)\n",
      "Requirement already satisfied: typing-extensions>=3.10.0.0 in ./venv/lib/python3.9/site-packages (from great-expectations==0.15.15) (4.5.0)\n",
      "Requirement already satisfied: termcolor>=1.1.0 in ./venv/lib/python3.9/site-packages (from great-expectations==0.15.15) (2.2.0)\n",
      "Requirement already satisfied: altair<5,>=4.0.0 in ./venv/lib/python3.9/site-packages (from great-expectations==0.15.15) (4.2.2)\n",
      "Requirement already satisfied: ruamel.yaml<0.17.18,>=0.16 in ./venv/lib/python3.9/site-packages (from great-expectations==0.15.15) (0.17.17)\n",
      "Requirement already satisfied: pytz>=2021.3 in ./venv/lib/python3.9/site-packages (from great-expectations==0.15.15) (2023.3)\n",
      "Requirement already satisfied: jsonschema>=2.5.1 in ./venv/lib/python3.9/site-packages (from great-expectations==0.15.15) (4.17.3)\n",
      "Requirement already satisfied: Click>=7.1.2 in ./venv/lib/python3.9/site-packages (from great-expectations==0.15.15) (8.1.3)\n",
      "Requirement already satisfied: nbformat>=5.0 in ./venv/lib/python3.9/site-packages (from great-expectations==0.15.15) (5.8.0)\n",
      "Requirement already satisfied: mistune>=0.8.4 in ./venv/lib/python3.9/site-packages (from great-expectations==0.15.15) (2.0.5)\n",
      "Requirement already satisfied: numpy>=1.14.1 in ./venv/lib/python3.9/site-packages (from great-expectations==0.15.15) (1.19.5)\n",
      "Requirement already satisfied: Ipython>=7.16.3 in ./venv/lib/python3.9/site-packages (from great-expectations==0.15.15) (8.12.0)\n",
      "Requirement already satisfied: cryptography>=3.2 in ./venv/lib/python3.9/site-packages (from great-expectations==0.15.15) (40.0.2)\n",
      "Requirement already satisfied: scipy>=0.19.0 in ./venv/lib/python3.9/site-packages (from great-expectations==0.15.15) (1.10.1)\n",
      "Requirement already satisfied: entrypoints in ./venv/lib/python3.9/site-packages (from altair<5,>=4.0.0->great-expectations==0.15.15) (0.4)\n",
      "Requirement already satisfied: toolz in ./venv/lib/python3.9/site-packages (from altair<5,>=4.0.0->great-expectations==0.15.15) (0.12.0)\n",
      "Requirement already satisfied: cffi>=1.12 in ./venv/lib/python3.9/site-packages (from cryptography>=3.2->great-expectations==0.15.15) (1.15.1)\n",
      "Requirement already satisfied: zipp>=0.5 in ./venv/lib/python3.9/site-packages (from importlib-metadata>=1.7.0->great-expectations==0.15.15) (3.15.0)\n",
      "Requirement already satisfied: traitlets>=5 in ./venv/lib/python3.9/site-packages (from Ipython>=7.16.3->great-expectations==0.15.15) (5.9.0)\n",
      "Requirement already satisfied: pexpect>4.3 in ./venv/lib/python3.9/site-packages (from Ipython>=7.16.3->great-expectations==0.15.15) (4.8.0)\n",
      "Requirement already satisfied: pickleshare in ./venv/lib/python3.9/site-packages (from Ipython>=7.16.3->great-expectations==0.15.15) (0.7.5)\n",
      "Requirement already satisfied: pygments>=2.4.0 in ./venv/lib/python3.9/site-packages (from Ipython>=7.16.3->great-expectations==0.15.15) (2.15.1)\n",
      "Requirement already satisfied: stack-data in ./venv/lib/python3.9/site-packages (from Ipython>=7.16.3->great-expectations==0.15.15) (0.6.2)\n",
      "Requirement already satisfied: jedi>=0.16 in ./venv/lib/python3.9/site-packages (from Ipython>=7.16.3->great-expectations==0.15.15) (0.18.2)\n",
      "Requirement already satisfied: prompt-toolkit!=3.0.37,<3.1.0,>=3.0.30 in ./venv/lib/python3.9/site-packages (from Ipython>=7.16.3->great-expectations==0.15.15) (3.0.38)\n",
      "Requirement already satisfied: matplotlib-inline in ./venv/lib/python3.9/site-packages (from Ipython>=7.16.3->great-expectations==0.15.15) (0.1.6)\n",
      "Requirement already satisfied: appnope in ./venv/lib/python3.9/site-packages (from Ipython>=7.16.3->great-expectations==0.15.15) (0.1.3)\n",
      "Requirement already satisfied: decorator in ./venv/lib/python3.9/site-packages (from Ipython>=7.16.3->great-expectations==0.15.15) (5.1.1)\n",
      "Requirement already satisfied: backcall in ./venv/lib/python3.9/site-packages (from Ipython>=7.16.3->great-expectations==0.15.15) (0.2.0)\n",
      "Requirement already satisfied: jupyterlab-widgets~=3.0.7 in ./venv/lib/python3.9/site-packages (from ipywidgets>=7.5.1->great-expectations==0.15.15) (3.0.7)\n",
      "Requirement already satisfied: ipykernel>=4.5.1 in ./venv/lib/python3.9/site-packages (from ipywidgets>=7.5.1->great-expectations==0.15.15) (6.22.0)\n",
      "Requirement already satisfied: widgetsnbextension~=4.0.7 in ./venv/lib/python3.9/site-packages (from ipywidgets>=7.5.1->great-expectations==0.15.15) (4.0.7)\n",
      "Requirement already satisfied: MarkupSafe>=2.0 in ./venv/lib/python3.9/site-packages (from jinja2>=2.10->great-expectations==0.15.15) (2.1.2)\n",
      "Requirement already satisfied: jsonpointer>=1.9 in ./venv/lib/python3.9/site-packages (from jsonpatch>=1.22->great-expectations==0.15.15) (2.3)\n",
      "Requirement already satisfied: attrs>=17.4.0 in ./venv/lib/python3.9/site-packages (from jsonschema>=2.5.1->great-expectations==0.15.15) (23.1.0)\n",
      "Requirement already satisfied: pyrsistent!=0.17.0,!=0.17.1,!=0.17.2,>=0.14.0 in ./venv/lib/python3.9/site-packages (from jsonschema>=2.5.1->great-expectations==0.15.15) (0.19.3)\n",
      "Requirement already satisfied: fastjsonschema in ./venv/lib/python3.9/site-packages (from nbformat>=5.0->great-expectations==0.15.15) (2.16.3)\n",
      "Requirement already satisfied: jupyter-core in ./venv/lib/python3.9/site-packages (from nbformat>=5.0->great-expectations==0.15.15) (5.3.0)\n",
      "Requirement already satisfied: nest-asyncio>=1.5 in ./venv/lib/python3.9/site-packages (from notebook>=6.4.10->great-expectations==0.15.15) (1.5.6)\n",
      "Requirement already satisfied: Send2Trash>=1.8.0 in ./venv/lib/python3.9/site-packages (from notebook>=6.4.10->great-expectations==0.15.15) (1.8.0)\n",
      "Requirement already satisfied: nbconvert>=5 in ./venv/lib/python3.9/site-packages (from notebook>=6.4.10->great-expectations==0.15.15) (7.3.1)\n",
      "Requirement already satisfied: terminado>=0.8.3 in ./venv/lib/python3.9/site-packages (from notebook>=6.4.10->great-expectations==0.15.15) (0.17.1)\n",
      "Requirement already satisfied: tornado>=6.1 in ./venv/lib/python3.9/site-packages (from notebook>=6.4.10->great-expectations==0.15.15) (6.3)\n",
      "Requirement already satisfied: nbclassic>=0.4.7 in ./venv/lib/python3.9/site-packages (from notebook>=6.4.10->great-expectations==0.15.15) (0.5.5)\n",
      "Requirement already satisfied: pyzmq>=17 in ./venv/lib/python3.9/site-packages (from notebook>=6.4.10->great-expectations==0.15.15) (25.0.2)\n",
      "Requirement already satisfied: ipython-genutils in ./venv/lib/python3.9/site-packages (from notebook>=6.4.10->great-expectations==0.15.15) (0.2.0)\n",
      "Requirement already satisfied: argon2-cffi in ./venv/lib/python3.9/site-packages (from notebook>=6.4.10->great-expectations==0.15.15) (21.3.0)\n",
      "Requirement already satisfied: jupyter-client>=5.3.4 in ./venv/lib/python3.9/site-packages (from notebook>=6.4.10->great-expectations==0.15.15) (8.2.0)\n",
      "Requirement already satisfied: prometheus-client in ./venv/lib/python3.9/site-packages (from notebook>=6.4.10->great-expectations==0.15.15) (0.16.0)\n",
      "Requirement already satisfied: six>=1.5 in ./venv/lib/python3.9/site-packages (from python-dateutil>=2.8.1->great-expectations==0.15.15) (1.16.0)\n",
      "Requirement already satisfied: certifi>=2017.4.17 in ./venv/lib/python3.9/site-packages (from requests>=2.20->great-expectations==0.15.15) (2022.12.7)\n",
      "Requirement already satisfied: charset-normalizer<4,>=2 in ./venv/lib/python3.9/site-packages (from requests>=2.20->great-expectations==0.15.15) (3.1.0)\n",
      "Requirement already satisfied: idna<4,>=2.5 in ./venv/lib/python3.9/site-packages (from requests>=2.20->great-expectations==0.15.15) (3.4)\n",
      "Requirement already satisfied: ruamel.yaml.clib>=0.1.2 in ./venv/lib/python3.9/site-packages (from ruamel.yaml<0.17.18,>=0.16->great-expectations==0.15.15) (0.2.7)\n",
      "Requirement already satisfied: pytz-deprecation-shim in ./venv/lib/python3.9/site-packages (from tzlocal>=1.2->great-expectations==0.15.15) (0.1.0.post0)\n",
      "Requirement already satisfied: pycparser in ./venv/lib/python3.9/site-packages (from cffi>=1.12->cryptography>=3.2->great-expectations==0.15.15) (2.21)\n",
      "Requirement already satisfied: comm>=0.1.1 in ./venv/lib/python3.9/site-packages (from ipykernel>=4.5.1->ipywidgets>=7.5.1->great-expectations==0.15.15) (0.1.3)\n",
      "Requirement already satisfied: psutil in ./venv/lib/python3.9/site-packages (from ipykernel>=4.5.1->ipywidgets>=7.5.1->great-expectations==0.15.15) (5.9.5)\n",
      "Requirement already satisfied: debugpy>=1.6.5 in ./venv/lib/python3.9/site-packages (from ipykernel>=4.5.1->ipywidgets>=7.5.1->great-expectations==0.15.15) (1.6.7)\n",
      "Requirement already satisfied: parso<0.9.0,>=0.8.0 in ./venv/lib/python3.9/site-packages (from jedi>=0.16->Ipython>=7.16.3->great-expectations==0.15.15) (0.8.3)\n",
      "Requirement already satisfied: platformdirs>=2.5 in ./venv/lib/python3.9/site-packages (from jupyter-core->nbformat>=5.0->great-expectations==0.15.15) (3.2.0)\n",
      "Requirement already satisfied: notebook-shim>=0.1.0 in ./venv/lib/python3.9/site-packages (from nbclassic>=0.4.7->notebook>=6.4.10->great-expectations==0.15.15) (0.2.2)\n",
      "Requirement already satisfied: jupyter-server>=1.8 in ./venv/lib/python3.9/site-packages (from nbclassic>=0.4.7->notebook>=6.4.10->great-expectations==0.15.15) (2.5.0)\n",
      "Requirement already satisfied: beautifulsoup4 in ./venv/lib/python3.9/site-packages (from nbconvert>=5->notebook>=6.4.10->great-expectations==0.15.15) (4.12.2)\n",
      "Requirement already satisfied: nbclient>=0.5.0 in ./venv/lib/python3.9/site-packages (from nbconvert>=5->notebook>=6.4.10->great-expectations==0.15.15) (0.7.3)\n",
      "Requirement already satisfied: tinycss2 in ./venv/lib/python3.9/site-packages (from nbconvert>=5->notebook>=6.4.10->great-expectations==0.15.15) (1.2.1)\n",
      "Requirement already satisfied: bleach in ./venv/lib/python3.9/site-packages (from nbconvert>=5->notebook>=6.4.10->great-expectations==0.15.15) (6.0.0)\n",
      "Requirement already satisfied: defusedxml in ./venv/lib/python3.9/site-packages (from nbconvert>=5->notebook>=6.4.10->great-expectations==0.15.15) (0.7.1)\n",
      "Requirement already satisfied: jupyterlab-pygments in ./venv/lib/python3.9/site-packages (from nbconvert>=5->notebook>=6.4.10->great-expectations==0.15.15) (0.2.2)\n",
      "Requirement already satisfied: pandocfilters>=1.4.1 in ./venv/lib/python3.9/site-packages (from nbconvert>=5->notebook>=6.4.10->great-expectations==0.15.15) (1.5.0)\n",
      "Requirement already satisfied: ptyprocess>=0.5 in ./venv/lib/python3.9/site-packages (from pexpect>4.3->Ipython>=7.16.3->great-expectations==0.15.15) (0.7.0)\n",
      "Requirement already satisfied: wcwidth in ./venv/lib/python3.9/site-packages (from prompt-toolkit!=3.0.37,<3.1.0,>=3.0.30->Ipython>=7.16.3->great-expectations==0.15.15) (0.2.6)\n",
      "Requirement already satisfied: argon2-cffi-bindings in ./venv/lib/python3.9/site-packages (from argon2-cffi->notebook>=6.4.10->great-expectations==0.15.15) (21.2.0)\n",
      "Requirement already satisfied: tzdata in ./venv/lib/python3.9/site-packages (from pytz-deprecation-shim->tzlocal>=1.2->great-expectations==0.15.15) (2023.3)\n",
      "Requirement already satisfied: asttokens>=2.1.0 in ./venv/lib/python3.9/site-packages (from stack-data->Ipython>=7.16.3->great-expectations==0.15.15) (2.2.1)\n",
      "Requirement already satisfied: executing>=1.2.0 in ./venv/lib/python3.9/site-packages (from stack-data->Ipython>=7.16.3->great-expectations==0.15.15) (1.2.0)\n",
      "Requirement already satisfied: pure-eval in ./venv/lib/python3.9/site-packages (from stack-data->Ipython>=7.16.3->great-expectations==0.15.15) (0.2.2)\n",
      "Requirement already satisfied: jupyter-events>=0.4.0 in ./venv/lib/python3.9/site-packages (from jupyter-server>=1.8->nbclassic>=0.4.7->notebook>=6.4.10->great-expectations==0.15.15) (0.6.3)\n",
      "Requirement already satisfied: jupyter-server-terminals in ./venv/lib/python3.9/site-packages (from jupyter-server>=1.8->nbclassic>=0.4.7->notebook>=6.4.10->great-expectations==0.15.15) (0.4.4)\n",
      "Requirement already satisfied: websocket-client in ./venv/lib/python3.9/site-packages (from jupyter-server>=1.8->nbclassic>=0.4.7->notebook>=6.4.10->great-expectations==0.15.15) (1.5.1)\n",
      "Requirement already satisfied: anyio>=3.1.0 in ./venv/lib/python3.9/site-packages (from jupyter-server>=1.8->nbclassic>=0.4.7->notebook>=6.4.10->great-expectations==0.15.15) (3.6.2)\n",
      "Requirement already satisfied: soupsieve>1.2 in ./venv/lib/python3.9/site-packages (from beautifulsoup4->nbconvert>=5->notebook>=6.4.10->great-expectations==0.15.15) (2.4.1)\n",
      "Requirement already satisfied: webencodings in ./venv/lib/python3.9/site-packages (from bleach->nbconvert>=5->notebook>=6.4.10->great-expectations==0.15.15) (0.5.1)\n",
      "Requirement already satisfied: sniffio>=1.1 in ./venv/lib/python3.9/site-packages (from anyio>=3.1.0->jupyter-server>=1.8->nbclassic>=0.4.7->notebook>=6.4.10->great-expectations==0.15.15) (1.3.0)\n",
      "Requirement already satisfied: python-json-logger>=2.0.4 in ./venv/lib/python3.9/site-packages (from jupyter-events>=0.4.0->jupyter-server>=1.8->nbclassic>=0.4.7->notebook>=6.4.10->great-expectations==0.15.15) (2.0.7)\n",
      "Requirement already satisfied: rfc3986-validator>=0.1.1 in ./venv/lib/python3.9/site-packages (from jupyter-events>=0.4.0->jupyter-server>=1.8->nbclassic>=0.4.7->notebook>=6.4.10->great-expectations==0.15.15) (0.1.1)\n",
      "Requirement already satisfied: rfc3339-validator in ./venv/lib/python3.9/site-packages (from jupyter-events>=0.4.0->jupyter-server>=1.8->nbclassic>=0.4.7->notebook>=6.4.10->great-expectations==0.15.15) (0.1.4)\n",
      "Requirement already satisfied: pyyaml>=5.3 in ./venv/lib/python3.9/site-packages (from jupyter-events>=0.4.0->jupyter-server>=1.8->nbclassic>=0.4.7->notebook>=6.4.10->great-expectations==0.15.15) (6.0)\n",
      "Requirement already satisfied: uri-template in ./venv/lib/python3.9/site-packages (from jsonschema>=2.5.1->great-expectations==0.15.15) (1.2.0)\n",
      "Requirement already satisfied: isoduration in ./venv/lib/python3.9/site-packages (from jsonschema>=2.5.1->great-expectations==0.15.15) (20.11.0)\n",
      "Requirement already satisfied: fqdn in ./venv/lib/python3.9/site-packages (from jsonschema>=2.5.1->great-expectations==0.15.15) (1.5.1)\n",
      "Requirement already satisfied: webcolors>=1.11 in ./venv/lib/python3.9/site-packages (from jsonschema>=2.5.1->great-expectations==0.15.15) (1.13)\n",
      "Requirement already satisfied: arrow>=0.15.0 in ./venv/lib/python3.9/site-packages (from isoduration->jsonschema>=2.5.1->great-expectations==0.15.15) (1.2.3)\n",
      "\u001b[33mWARNING: You are using pip version 21.3.1; however, version 23.1 is available.\n",
      "You should consider upgrading via the '/Users/softwareone/mlops/venv/bin/python -m pip install --upgrade pip' command.\u001b[0m\n",
      "Note: you may need to restart the kernel to use updated packages.\n"
     ]
    }
   ],
   "source": [
    "pip install great-expectations==0.15.15"
   ]
  },
  {
   "cell_type": "code",
   "execution_count": 1,
   "metadata": {},
   "outputs": [],
   "source": [
    "import great_expectations as ge \n",
    "import json \n",
    "import pandas as pd\n",
    "from urllib.request import urlopen"
   ]
  },
  {
   "cell_type": "code",
   "execution_count": 2,
   "metadata": {},
   "outputs": [
    {
     "name": "stdout",
     "output_type": "stream",
     "text": [
      "955 is the lenght of dataframe\n",
      "<class 'great_expectations.dataset.pandas_dataset.PandasDataset'>\n"
     ]
    },
    {
     "data": {
      "text/html": [
       "<div>\n",
       "<style scoped>\n",
       "    .dataframe tbody tr th:only-of-type {\n",
       "        vertical-align: middle;\n",
       "    }\n",
       "\n",
       "    .dataframe tbody tr th {\n",
       "        vertical-align: top;\n",
       "    }\n",
       "\n",
       "    .dataframe thead th {\n",
       "        text-align: right;\n",
       "    }\n",
       "</style>\n",
       "<table border=\"1\" class=\"dataframe\">\n",
       "  <thead>\n",
       "    <tr style=\"text-align: right;\">\n",
       "      <th></th>\n",
       "      <th>id</th>\n",
       "      <th>created_on</th>\n",
       "      <th>title</th>\n",
       "      <th>description</th>\n",
       "      <th>tag</th>\n",
       "    </tr>\n",
       "  </thead>\n",
       "  <tbody>\n",
       "    <tr>\n",
       "      <th>0</th>\n",
       "      <td>6</td>\n",
       "      <td>2020-02-20 06:43:18</td>\n",
       "      <td>Comparison between YOLO and RCNN on real world...</td>\n",
       "      <td>Bringing theory to experiment is cool. We can ...</td>\n",
       "      <td>computer-vision</td>\n",
       "    </tr>\n",
       "    <tr>\n",
       "      <th>1</th>\n",
       "      <td>7</td>\n",
       "      <td>2020-02-20 06:47:21</td>\n",
       "      <td>Show, Infer &amp; Tell: Contextual Inference for C...</td>\n",
       "      <td>The beauty of the work lies in the way it arch...</td>\n",
       "      <td>computer-vision</td>\n",
       "    </tr>\n",
       "    <tr>\n",
       "      <th>2</th>\n",
       "      <td>9</td>\n",
       "      <td>2020-02-24 16:24:45</td>\n",
       "      <td>Awesome Graph Classification</td>\n",
       "      <td>A collection of important graph embedding, cla...</td>\n",
       "      <td>graph-learning</td>\n",
       "    </tr>\n",
       "    <tr>\n",
       "      <th>3</th>\n",
       "      <td>15</td>\n",
       "      <td>2020-02-28 23:55:26</td>\n",
       "      <td>Awesome Monte Carlo Tree Search</td>\n",
       "      <td>A curated list of Monte Carlo tree search pape...</td>\n",
       "      <td>reinforcement-learning</td>\n",
       "    </tr>\n",
       "    <tr>\n",
       "      <th>4</th>\n",
       "      <td>19</td>\n",
       "      <td>2020-03-03 13:54:31</td>\n",
       "      <td>Diffusion to Vector</td>\n",
       "      <td>Reference implementation of Diffusion2Vec (Com...</td>\n",
       "      <td>graph-learning</td>\n",
       "    </tr>\n",
       "  </tbody>\n",
       "</table>\n",
       "</div>"
      ],
      "text/plain": [
       "   id           created_on                                              title  \\\n",
       "0   6  2020-02-20 06:43:18  Comparison between YOLO and RCNN on real world...   \n",
       "1   7  2020-02-20 06:47:21  Show, Infer & Tell: Contextual Inference for C...   \n",
       "2   9  2020-02-24 16:24:45                       Awesome Graph Classification   \n",
       "3  15  2020-02-28 23:55:26                    Awesome Monte Carlo Tree Search   \n",
       "4  19  2020-03-03 13:54:31                                Diffusion to Vector   \n",
       "\n",
       "                                         description                     tag  \n",
       "0  Bringing theory to experiment is cool. We can ...         computer-vision  \n",
       "1  The beauty of the work lies in the way it arch...         computer-vision  \n",
       "2  A collection of important graph embedding, cla...          graph-learning  \n",
       "3  A curated list of Monte Carlo tree search pape...  reinforcement-learning  \n",
       "4  Reference implementation of Diffusion2Vec (Com...          graph-learning  "
      ]
     },
     "execution_count": 2,
     "metadata": {},
     "output_type": "execute_result"
    }
   ],
   "source": [
    "projects = pd.read_csv(\"https://raw.githubusercontent.com/GokuMohandas/Made-With-ML/main/datasets/projects.csv\")\n",
    "tags = pd.read_csv(\"https://raw.githubusercontent.com/GokuMohandas/Made-With-ML/main/datasets/tags.csv\")\n",
    "df = ge.dataset.PandasDataset(pd.merge(projects, tags, on=\"id\"))\n",
    "print(f\"{len(df)} is the lenght of dataframe\")\n",
    "print(type(df))\n",
    "df.head(5)"
   ]
  },
  {
   "cell_type": "code",
   "execution_count": 6,
   "metadata": {},
   "outputs": [
    {
     "data": {
      "text/plain": [
       "{\n",
       "  \"meta\": {},\n",
       "  \"success\": true,\n",
       "  \"result\": {\n",
       "    \"observed_value\": [\n",
       "      \"id\",\n",
       "      \"created_on\",\n",
       "      \"title\",\n",
       "      \"description\",\n",
       "      \"tag\"\n",
       "    ]\n",
       "  },\n",
       "  \"exception_info\": {\n",
       "    \"raised_exception\": false,\n",
       "    \"exception_traceback\": null,\n",
       "    \"exception_message\": null\n",
       "  }\n",
       "}"
      ]
     },
     "execution_count": 6,
     "metadata": {},
     "output_type": "execute_result"
    }
   ],
   "source": [
    "# Presence of specific features\n",
    "df.expect_table_columns_to_match_ordered_list(column_list=[\"id\", \"created_on\",\"title\", \"description\", \"tag\"])\n"
   ]
  },
  {
   "cell_type": "code",
   "execution_count": 7,
   "metadata": {},
   "outputs": [
    {
     "data": {
      "text/plain": [
       "{\n",
       "  \"meta\": {},\n",
       "  \"success\": true,\n",
       "  \"result\": {\n",
       "    \"element_count\": 955,\n",
       "    \"missing_count\": 0,\n",
       "    \"missing_percent\": 0.0,\n",
       "    \"unexpected_count\": 0,\n",
       "    \"unexpected_percent\": 0.0,\n",
       "    \"unexpected_percent_total\": 0.0,\n",
       "    \"unexpected_percent_nonmissing\": 0.0,\n",
       "    \"partial_unexpected_list\": []\n",
       "  },\n",
       "  \"exception_info\": {\n",
       "    \"raised_exception\": false,\n",
       "    \"exception_traceback\": null,\n",
       "    \"exception_message\": null\n",
       "  }\n",
       "}"
      ]
     },
     "execution_count": 7,
     "metadata": {},
     "output_type": "execute_result"
    }
   ],
   "source": [
    "# Unique combination of features (!detect data leak)\n",
    "df.expect_compound_columns_to_be_unique(column_list=[\"title\",\"description\"])"
   ]
  },
  {
   "cell_type": "code",
   "execution_count": 8,
   "metadata": {},
   "outputs": [
    {
     "data": {
      "text/plain": [
       "{\n",
       "  \"meta\": {},\n",
       "  \"success\": true,\n",
       "  \"result\": {\n",
       "    \"element_count\": 955,\n",
       "    \"unexpected_count\": 0,\n",
       "    \"unexpected_percent\": 0.0,\n",
       "    \"unexpected_percent_total\": 0.0,\n",
       "    \"partial_unexpected_list\": []\n",
       "  },\n",
       "  \"exception_info\": {\n",
       "    \"raised_exception\": false,\n",
       "    \"exception_traceback\": null,\n",
       "    \"exception_message\": null\n",
       "  }\n",
       "}"
      ]
     },
     "execution_count": 8,
     "metadata": {},
     "output_type": "execute_result"
    }
   ],
   "source": [
    "# Missing values \n",
    "df.expect_column_values_to_not_be_null(\"tag\")"
   ]
  },
  {
   "cell_type": "code",
   "execution_count": 10,
   "metadata": {},
   "outputs": [
    {
     "data": {
      "text/plain": [
       "{\n",
       "  \"meta\": {},\n",
       "  \"success\": true,\n",
       "  \"result\": {\n",
       "    \"element_count\": 955,\n",
       "    \"missing_count\": 0,\n",
       "    \"missing_percent\": 0.0,\n",
       "    \"unexpected_count\": 0,\n",
       "    \"unexpected_percent\": 0.0,\n",
       "    \"unexpected_percent_total\": 0.0,\n",
       "    \"unexpected_percent_nonmissing\": 0.0,\n",
       "    \"partial_unexpected_list\": []\n",
       "  },\n",
       "  \"exception_info\": {\n",
       "    \"raised_exception\": false,\n",
       "    \"exception_traceback\": null,\n",
       "    \"exception_message\": null\n",
       "  }\n",
       "}"
      ]
     },
     "execution_count": 10,
     "metadata": {},
     "output_type": "execute_result"
    }
   ],
   "source": [
    "# Unique values\n",
    "df.expect_column_values_to_be_unique(column=\"id\")"
   ]
  },
  {
   "cell_type": "code",
   "execution_count": 13,
   "metadata": {},
   "outputs": [
    {
     "data": {
      "text/plain": [
       "{\n",
       "  \"meta\": {},\n",
       "  \"success\": true,\n",
       "  \"result\": {\n",
       "    \"element_count\": 955,\n",
       "    \"missing_count\": 0,\n",
       "    \"missing_percent\": 0.0,\n",
       "    \"unexpected_count\": 0,\n",
       "    \"unexpected_percent\": 0.0,\n",
       "    \"unexpected_percent_total\": 0.0,\n",
       "    \"unexpected_percent_nonmissing\": 0.0,\n",
       "    \"partial_unexpected_list\": []\n",
       "  },\n",
       "  \"exception_info\": {\n",
       "    \"raised_exception\": false,\n",
       "    \"exception_traceback\": null,\n",
       "    \"exception_message\": null\n",
       "  }\n",
       "}"
      ]
     },
     "execution_count": 13,
     "metadata": {},
     "output_type": "execute_result"
    }
   ],
   "source": [
    "# Type adherence\n",
    "df.expect_column_values_to_be_of_type(column=\"title\", type_=\"str\")"
   ]
  },
  {
   "cell_type": "code",
   "execution_count": 14,
   "metadata": {},
   "outputs": [
    {
     "data": {
      "text/plain": [
       "{\n",
       "  \"meta\": {},\n",
       "  \"success\": true,\n",
       "  \"result\": {\n",
       "    \"element_count\": 955,\n",
       "    \"missing_count\": 0,\n",
       "    \"missing_percent\": 0.0,\n",
       "    \"unexpected_count\": 0,\n",
       "    \"unexpected_percent\": 0.0,\n",
       "    \"unexpected_percent_total\": 0.0,\n",
       "    \"unexpected_percent_nonmissing\": 0.0,\n",
       "    \"partial_unexpected_list\": []\n",
       "  },\n",
       "  \"exception_info\": {\n",
       "    \"raised_exception\": false,\n",
       "    \"exception_traceback\": null,\n",
       "    \"exception_message\": null\n",
       "  }\n",
       "}"
      ]
     },
     "execution_count": 14,
     "metadata": {},
     "output_type": "execute_result"
    }
   ],
   "source": [
    "# List (categorical) / range (continuous) of allowed values\n",
    "tags = [\"computer-vision\", \"graph-learning\", \"reinforcement-learning\",\n",
    "        \"natural-language-processing\", \"mlops\", \"time-series\"]\n",
    "df.expect_column_values_to_be_in_set(column=\"tag\", value_set=tags)"
   ]
  },
  {
   "cell_type": "markdown",
   "metadata": {},
   "source": [
    "feature value relationships with other feature values → expect_column_pair_values_a_to_be_greater_than_b\n",
    "row count (exact or range) of samples → expect_table_row_count_to_be_between\n",
    "value statistics (mean, std, median, max, min, sum, etc.) → expect_column_mean_to_be_between"
   ]
  },
  {
   "cell_type": "markdown",
   "metadata": {},
   "source": [
    "# Organization"
   ]
  },
  {
   "cell_type": "code",
   "execution_count": 5,
   "metadata": {},
   "outputs": [
    {
     "data": {
      "text/plain": [
       "{\n",
       "  \"success\": true,\n",
       "  \"result\": {\n",
       "    \"element_count\": 955,\n",
       "    \"missing_count\": 0,\n",
       "    \"missing_percent\": 0.0,\n",
       "    \"unexpected_count\": 0,\n",
       "    \"unexpected_percent\": 0.0,\n",
       "    \"unexpected_percent_total\": 0.0,\n",
       "    \"unexpected_percent_nonmissing\": 0.0,\n",
       "    \"partial_unexpected_list\": []\n",
       "  },\n",
       "  \"meta\": {},\n",
       "  \"exception_info\": {\n",
       "    \"raised_exception\": false,\n",
       "    \"exception_traceback\": null,\n",
       "    \"exception_message\": null\n",
       "  }\n",
       "}"
      ]
     },
     "execution_count": 5,
     "metadata": {},
     "output_type": "execute_result"
    }
   ],
   "source": [
    "# Table expectation\n",
    "# columns\n",
    "df.expect_table_columns_to_match_ordered_list(\n",
    "    column_list=[\"id\", \"created_on\", \"title\", \"description\", \"tag\"])\n",
    "\n",
    "# data leak\n",
    "df.expect_compound_columns_to_be_unique(column_list=[\"title\", \"description\"])\n",
    "\n",
    "\n",
    "# Column expectation \n",
    "# id\n",
    "df.expect_column_values_to_be_unique(column=\"id\")\n",
    "\n",
    "# created_on\n",
    "df.expect_column_values_to_not_be_null(column=\"created_on\")\n",
    "df.expect_column_values_to_match_strftime_format(\n",
    "    column=\"created_on\", strftime_format=\"%Y-%m-%d %H:%M:%S\")\n",
    "\n",
    "# title\n",
    "df.expect_column_values_to_not_be_null(column=\"title\")\n",
    "df.expect_column_values_to_be_of_type(column=\"title\", type_=\"str\")\n",
    "\n",
    "# description\n",
    "df.expect_column_values_to_not_be_null(column=\"description\")\n",
    "df.expect_column_values_to_be_of_type(column=\"description\", type_=\"str\")\n",
    "\n",
    "# tag\n",
    "df.expect_column_values_to_not_be_null(column=\"tag\")\n",
    "df.expect_column_values_to_be_of_type(column=\"tag\", type_=\"str\")\n"
   ]
  },
  {
   "cell_type": "code",
   "execution_count": 7,
   "metadata": {},
   "outputs": [
    {
     "name": "stdout",
     "output_type": "stream",
     "text": [
      "{\n",
      "  \"success\": true,\n",
      "  \"results\": [],\n",
      "  \"statistics\": {\n",
      "    \"evaluated_expectations\": 11,\n",
      "    \"successful_expectations\": 11,\n",
      "    \"unsuccessful_expectations\": 0,\n",
      "    \"success_percent\": 100.0\n",
      "  },\n",
      "  \"meta\": {\n",
      "    \"great_expectations_version\": \"0.15.15\",\n",
      "    \"expectation_suite_name\": \"default\",\n",
      "    \"run_id\": {\n",
      "      \"run_time\": \"2023-04-24T00:51:30.532832+00:00\",\n",
      "      \"run_name\": null\n",
      "    },\n",
      "    \"batch_kwargs\": {\n",
      "      \"ge_batch_id\": \"bf0d96c8-e239-11ed-ab62-acde48001122\"\n",
      "    },\n",
      "    \"batch_markers\": {},\n",
      "    \"batch_parameters\": {},\n",
      "    \"validation_time\": \"20230424T005130.532776Z\",\n",
      "    \"expectation_suite_meta\": {\n",
      "      \"great_expectations_version\": \"0.15.15\"\n",
      "    }\n",
      "  },\n",
      "  \"evaluation_parameters\": {}\n",
      "}\n"
     ]
    }
   ],
   "source": [
    "\n",
    "# Expectation suite\n",
    "expectation_suite = df.get_expectation_suite(discard_failed_expectations=False)\n",
    "print(df.validate(expectation_suite=expectation_suite, only_return_failures=True))"
   ]
  },
  {
   "cell_type": "code",
   "execution_count": null,
   "metadata": {},
   "outputs": [],
   "source": []
  }
 ],
 "metadata": {
  "kernelspec": {
   "display_name": "Python 3.9.1 ('venv': venv)",
   "language": "python",
   "name": "python3"
  },
  "language_info": {
   "codemirror_mode": {
    "name": "ipython",
    "version": 3
   },
   "file_extension": ".py",
   "mimetype": "text/x-python",
   "name": "python",
   "nbconvert_exporter": "python",
   "pygments_lexer": "ipython3",
   "version": "3.9.1"
  },
  "orig_nbformat": 4,
  "vscode": {
   "interpreter": {
    "hash": "9140b548ac99fb63a7e59f236319e8ee2c7acbb52e32da6972d38cbde94b102f"
   }
  }
 },
 "nbformat": 4,
 "nbformat_minor": 2
}
